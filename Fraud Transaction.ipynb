{
 "cells": [
  {
   "cell_type": "markdown",
   "id": "951845b0",
   "metadata": {},
   "source": [
    "I have to do the following task to build this predictive model\n",
    "1. Import libraries and dataset\n",
    "2. Inspect and understanding the data\n",
    "3. Feature engineering - transformation, inconsistencies removal, encoding the variables, Add or remove features, Scaling etc.\n",
    "4. Data preparation - Check missing data, detect and remove outliers etc.\n",
    "5. Train-Test split\n",
    "6. Train the model using suitable ML algo.\n",
    "7. Predict the results of test data\n",
    "8. Evaluate metrices\n",
    "9. Insights and Important factors\n",
    "10. Save and load model from pickle file"
   ]
  },
  {
   "cell_type": "markdown",
   "id": "18bb1253",
   "metadata": {},
   "source": [
    "# Import the required libraries"
   ]
  },
  {
   "cell_type": "code",
   "execution_count": 1,
   "id": "6ab583ae",
   "metadata": {},
   "outputs": [],
   "source": [
    "import numpy as np\n",
    "import pandas as pd\n",
    "import matplotlib.pyplot as plt\n",
    "import seaborn as sns\n",
    "\n",
    "import warnings\n",
    "warnings.filterwarnings('ignore')"
   ]
  },
  {
   "cell_type": "markdown",
   "id": "615b8c71",
   "metadata": {},
   "source": [
    "# Import and Inspect the dataset"
   ]
  },
  {
   "cell_type": "code",
   "execution_count": 2,
   "id": "44af1600",
   "metadata": {
    "scrolled": true
   },
   "outputs": [
    {
     "data": {
      "text/html": [
       "<div>\n",
       "<style scoped>\n",
       "    .dataframe tbody tr th:only-of-type {\n",
       "        vertical-align: middle;\n",
       "    }\n",
       "\n",
       "    .dataframe tbody tr th {\n",
       "        vertical-align: top;\n",
       "    }\n",
       "\n",
       "    .dataframe thead th {\n",
       "        text-align: right;\n",
       "    }\n",
       "</style>\n",
       "<table border=\"1\" class=\"dataframe\">\n",
       "  <thead>\n",
       "    <tr style=\"text-align: right;\">\n",
       "      <th></th>\n",
       "      <th>step</th>\n",
       "      <th>type</th>\n",
       "      <th>amount</th>\n",
       "      <th>nameOrig</th>\n",
       "      <th>oldbalanceOrg</th>\n",
       "      <th>newbalanceOrig</th>\n",
       "      <th>nameDest</th>\n",
       "      <th>oldbalanceDest</th>\n",
       "      <th>newbalanceDest</th>\n",
       "      <th>isFraud</th>\n",
       "      <th>isFlaggedFraud</th>\n",
       "    </tr>\n",
       "  </thead>\n",
       "  <tbody>\n",
       "    <tr>\n",
       "      <th>0</th>\n",
       "      <td>1</td>\n",
       "      <td>PAYMENT</td>\n",
       "      <td>9839.64</td>\n",
       "      <td>C1231006815</td>\n",
       "      <td>170136.0</td>\n",
       "      <td>160296.36</td>\n",
       "      <td>M1979787155</td>\n",
       "      <td>0.0</td>\n",
       "      <td>0.0</td>\n",
       "      <td>0</td>\n",
       "      <td>0</td>\n",
       "    </tr>\n",
       "    <tr>\n",
       "      <th>1</th>\n",
       "      <td>1</td>\n",
       "      <td>PAYMENT</td>\n",
       "      <td>1864.28</td>\n",
       "      <td>C1666544295</td>\n",
       "      <td>21249.0</td>\n",
       "      <td>19384.72</td>\n",
       "      <td>M2044282225</td>\n",
       "      <td>0.0</td>\n",
       "      <td>0.0</td>\n",
       "      <td>0</td>\n",
       "      <td>0</td>\n",
       "    </tr>\n",
       "    <tr>\n",
       "      <th>2</th>\n",
       "      <td>1</td>\n",
       "      <td>TRANSFER</td>\n",
       "      <td>181.00</td>\n",
       "      <td>C1305486145</td>\n",
       "      <td>181.0</td>\n",
       "      <td>0.00</td>\n",
       "      <td>C553264065</td>\n",
       "      <td>0.0</td>\n",
       "      <td>0.0</td>\n",
       "      <td>1</td>\n",
       "      <td>0</td>\n",
       "    </tr>\n",
       "    <tr>\n",
       "      <th>3</th>\n",
       "      <td>1</td>\n",
       "      <td>CASH_OUT</td>\n",
       "      <td>181.00</td>\n",
       "      <td>C840083671</td>\n",
       "      <td>181.0</td>\n",
       "      <td>0.00</td>\n",
       "      <td>C38997010</td>\n",
       "      <td>21182.0</td>\n",
       "      <td>0.0</td>\n",
       "      <td>1</td>\n",
       "      <td>0</td>\n",
       "    </tr>\n",
       "    <tr>\n",
       "      <th>4</th>\n",
       "      <td>1</td>\n",
       "      <td>PAYMENT</td>\n",
       "      <td>11668.14</td>\n",
       "      <td>C2048537720</td>\n",
       "      <td>41554.0</td>\n",
       "      <td>29885.86</td>\n",
       "      <td>M1230701703</td>\n",
       "      <td>0.0</td>\n",
       "      <td>0.0</td>\n",
       "      <td>0</td>\n",
       "      <td>0</td>\n",
       "    </tr>\n",
       "  </tbody>\n",
       "</table>\n",
       "</div>"
      ],
      "text/plain": [
       "   step      type    amount     nameOrig  oldbalanceOrg  newbalanceOrig  \\\n",
       "0     1   PAYMENT   9839.64  C1231006815       170136.0       160296.36   \n",
       "1     1   PAYMENT   1864.28  C1666544295        21249.0        19384.72   \n",
       "2     1  TRANSFER    181.00  C1305486145          181.0            0.00   \n",
       "3     1  CASH_OUT    181.00   C840083671          181.0            0.00   \n",
       "4     1   PAYMENT  11668.14  C2048537720        41554.0        29885.86   \n",
       "\n",
       "      nameDest  oldbalanceDest  newbalanceDest  isFraud  isFlaggedFraud  \n",
       "0  M1979787155             0.0             0.0        0               0  \n",
       "1  M2044282225             0.0             0.0        0               0  \n",
       "2   C553264065             0.0             0.0        1               0  \n",
       "3    C38997010         21182.0             0.0        1               0  \n",
       "4  M1230701703             0.0             0.0        0               0  "
      ]
     },
     "execution_count": 2,
     "metadata": {},
     "output_type": "execute_result"
    }
   ],
   "source": [
    "df = pd.read_csv('Fraud.csv')\n",
    "df.head()"
   ]
  },
  {
   "cell_type": "code",
   "execution_count": 3,
   "id": "fdf91836",
   "metadata": {},
   "outputs": [
    {
     "name": "stdout",
     "output_type": "stream",
     "text": [
      "<class 'pandas.core.frame.DataFrame'>\n",
      "RangeIndex: 6362620 entries, 0 to 6362619\n",
      "Data columns (total 11 columns):\n",
      " #   Column          Dtype  \n",
      "---  ------          -----  \n",
      " 0   step            int64  \n",
      " 1   type            object \n",
      " 2   amount          float64\n",
      " 3   nameOrig        object \n",
      " 4   oldbalanceOrg   float64\n",
      " 5   newbalanceOrig  float64\n",
      " 6   nameDest        object \n",
      " 7   oldbalanceDest  float64\n",
      " 8   newbalanceDest  float64\n",
      " 9   isFraud         int64  \n",
      " 10  isFlaggedFraud  int64  \n",
      "dtypes: float64(5), int64(3), object(3)\n",
      "memory usage: 534.0+ MB\n"
     ]
    }
   ],
   "source": [
    "df.info()"
   ]
  },
  {
   "cell_type": "code",
   "execution_count": 4,
   "id": "01e0d285",
   "metadata": {
    "scrolled": true
   },
   "outputs": [
    {
     "data": {
      "text/html": [
       "<div>\n",
       "<style scoped>\n",
       "    .dataframe tbody tr th:only-of-type {\n",
       "        vertical-align: middle;\n",
       "    }\n",
       "\n",
       "    .dataframe tbody tr th {\n",
       "        vertical-align: top;\n",
       "    }\n",
       "\n",
       "    .dataframe thead th {\n",
       "        text-align: right;\n",
       "    }\n",
       "</style>\n",
       "<table border=\"1\" class=\"dataframe\">\n",
       "  <thead>\n",
       "    <tr style=\"text-align: right;\">\n",
       "      <th></th>\n",
       "      <th>step</th>\n",
       "      <th>amount</th>\n",
       "      <th>oldbalanceOrg</th>\n",
       "      <th>newbalanceOrig</th>\n",
       "      <th>oldbalanceDest</th>\n",
       "      <th>newbalanceDest</th>\n",
       "      <th>isFraud</th>\n",
       "      <th>isFlaggedFraud</th>\n",
       "    </tr>\n",
       "  </thead>\n",
       "  <tbody>\n",
       "    <tr>\n",
       "      <th>count</th>\n",
       "      <td>6.362620e+06</td>\n",
       "      <td>6.362620e+06</td>\n",
       "      <td>6.362620e+06</td>\n",
       "      <td>6.362620e+06</td>\n",
       "      <td>6.362620e+06</td>\n",
       "      <td>6.362620e+06</td>\n",
       "      <td>6.362620e+06</td>\n",
       "      <td>6.362620e+06</td>\n",
       "    </tr>\n",
       "    <tr>\n",
       "      <th>mean</th>\n",
       "      <td>2.433972e+02</td>\n",
       "      <td>1.798619e+05</td>\n",
       "      <td>8.338831e+05</td>\n",
       "      <td>8.551137e+05</td>\n",
       "      <td>1.100702e+06</td>\n",
       "      <td>1.224996e+06</td>\n",
       "      <td>1.290820e-03</td>\n",
       "      <td>2.514687e-06</td>\n",
       "    </tr>\n",
       "    <tr>\n",
       "      <th>std</th>\n",
       "      <td>1.423320e+02</td>\n",
       "      <td>6.038582e+05</td>\n",
       "      <td>2.888243e+06</td>\n",
       "      <td>2.924049e+06</td>\n",
       "      <td>3.399180e+06</td>\n",
       "      <td>3.674129e+06</td>\n",
       "      <td>3.590480e-02</td>\n",
       "      <td>1.585775e-03</td>\n",
       "    </tr>\n",
       "    <tr>\n",
       "      <th>min</th>\n",
       "      <td>1.000000e+00</td>\n",
       "      <td>0.000000e+00</td>\n",
       "      <td>0.000000e+00</td>\n",
       "      <td>0.000000e+00</td>\n",
       "      <td>0.000000e+00</td>\n",
       "      <td>0.000000e+00</td>\n",
       "      <td>0.000000e+00</td>\n",
       "      <td>0.000000e+00</td>\n",
       "    </tr>\n",
       "    <tr>\n",
       "      <th>25%</th>\n",
       "      <td>1.560000e+02</td>\n",
       "      <td>1.338957e+04</td>\n",
       "      <td>0.000000e+00</td>\n",
       "      <td>0.000000e+00</td>\n",
       "      <td>0.000000e+00</td>\n",
       "      <td>0.000000e+00</td>\n",
       "      <td>0.000000e+00</td>\n",
       "      <td>0.000000e+00</td>\n",
       "    </tr>\n",
       "    <tr>\n",
       "      <th>50%</th>\n",
       "      <td>2.390000e+02</td>\n",
       "      <td>7.487194e+04</td>\n",
       "      <td>1.420800e+04</td>\n",
       "      <td>0.000000e+00</td>\n",
       "      <td>1.327057e+05</td>\n",
       "      <td>2.146614e+05</td>\n",
       "      <td>0.000000e+00</td>\n",
       "      <td>0.000000e+00</td>\n",
       "    </tr>\n",
       "    <tr>\n",
       "      <th>75%</th>\n",
       "      <td>3.350000e+02</td>\n",
       "      <td>2.087215e+05</td>\n",
       "      <td>1.073152e+05</td>\n",
       "      <td>1.442584e+05</td>\n",
       "      <td>9.430367e+05</td>\n",
       "      <td>1.111909e+06</td>\n",
       "      <td>0.000000e+00</td>\n",
       "      <td>0.000000e+00</td>\n",
       "    </tr>\n",
       "    <tr>\n",
       "      <th>max</th>\n",
       "      <td>7.430000e+02</td>\n",
       "      <td>9.244552e+07</td>\n",
       "      <td>5.958504e+07</td>\n",
       "      <td>4.958504e+07</td>\n",
       "      <td>3.560159e+08</td>\n",
       "      <td>3.561793e+08</td>\n",
       "      <td>1.000000e+00</td>\n",
       "      <td>1.000000e+00</td>\n",
       "    </tr>\n",
       "  </tbody>\n",
       "</table>\n",
       "</div>"
      ],
      "text/plain": [
       "               step        amount  oldbalanceOrg  newbalanceOrig  \\\n",
       "count  6.362620e+06  6.362620e+06   6.362620e+06    6.362620e+06   \n",
       "mean   2.433972e+02  1.798619e+05   8.338831e+05    8.551137e+05   \n",
       "std    1.423320e+02  6.038582e+05   2.888243e+06    2.924049e+06   \n",
       "min    1.000000e+00  0.000000e+00   0.000000e+00    0.000000e+00   \n",
       "25%    1.560000e+02  1.338957e+04   0.000000e+00    0.000000e+00   \n",
       "50%    2.390000e+02  7.487194e+04   1.420800e+04    0.000000e+00   \n",
       "75%    3.350000e+02  2.087215e+05   1.073152e+05    1.442584e+05   \n",
       "max    7.430000e+02  9.244552e+07   5.958504e+07    4.958504e+07   \n",
       "\n",
       "       oldbalanceDest  newbalanceDest       isFraud  isFlaggedFraud  \n",
       "count    6.362620e+06    6.362620e+06  6.362620e+06    6.362620e+06  \n",
       "mean     1.100702e+06    1.224996e+06  1.290820e-03    2.514687e-06  \n",
       "std      3.399180e+06    3.674129e+06  3.590480e-02    1.585775e-03  \n",
       "min      0.000000e+00    0.000000e+00  0.000000e+00    0.000000e+00  \n",
       "25%      0.000000e+00    0.000000e+00  0.000000e+00    0.000000e+00  \n",
       "50%      1.327057e+05    2.146614e+05  0.000000e+00    0.000000e+00  \n",
       "75%      9.430367e+05    1.111909e+06  0.000000e+00    0.000000e+00  \n",
       "max      3.560159e+08    3.561793e+08  1.000000e+00    1.000000e+00  "
      ]
     },
     "execution_count": 4,
     "metadata": {},
     "output_type": "execute_result"
    }
   ],
   "source": [
    "df.describe()"
   ]
  },
  {
   "cell_type": "markdown",
   "id": "ee9a7d73",
   "metadata": {},
   "source": [
    "# Feature Engineering"
   ]
  },
  {
   "cell_type": "markdown",
   "id": "4a6d38f6",
   "metadata": {},
   "source": [
    "Check for inconsistencies in the balances"
   ]
  },
  {
   "cell_type": "code",
   "execution_count": 5,
   "id": "a38c93cc",
   "metadata": {},
   "outputs": [],
   "source": [
    "df['balance_diff_orig'] = df['oldbalanceOrg'] - df['newbalanceOrig'] - df['amount']\n",
    "df['balance_diff_dest'] = df['oldbalanceDest'] + df['amount'] - df['newbalanceDest']"
   ]
  },
  {
   "cell_type": "code",
   "execution_count": 6,
   "id": "d9169b33",
   "metadata": {},
   "outputs": [
    {
     "name": "stdout",
     "output_type": "stream",
     "text": [
      "Inconsistent origin balances rows are: 5922109\n",
      "Inconsistent destination balances rows are: 4736674\n"
     ]
    }
   ],
   "source": [
    "inconsistent_orig = df[df['balance_diff_orig'] != 0]\n",
    "inconsistent_dest = df[df['balance_diff_dest'] != 0]\n",
    "\n",
    "print(\"Inconsistent origin balances rows are:\", len(inconsistent_orig))\n",
    "print(\"Inconsistent destination balances rows are:\", len(inconsistent_dest))"
   ]
  },
  {
   "cell_type": "markdown",
   "id": "93e0a936",
   "metadata": {},
   "source": [
    "Create a function to correct balances"
   ]
  },
  {
   "cell_type": "code",
   "execution_count": 7,
   "id": "1a5bd8b1",
   "metadata": {},
   "outputs": [],
   "source": [
    "def correct_balances(row):\n",
    "    if row['type'] == 'CASH-OUT':\n",
    "        # In CASH-OUT transaction, the sender's new balance should be oldbalanceOrg - amount\n",
    "        if row['newbalanceOrig'] != row['oldbalanceOrg'] - row['amount']:\n",
    "            row['newbalanceOrig'] = row['oldbalanceOrg'] - row['amount']\n",
    "    \n",
    "    elif row['type'] == 'CASH-IN':\n",
    "        # In CASH-IN transaction, the recipient's new balance should be oldbalanceDest + amount\n",
    "        if row['newbalanceDest'] != row['oldbalanceDest'] + row['amount']:\n",
    "            row['newbalanceDest'] = row['oldbalanceDest'] + row['amount']\n",
    "    \n",
    "    elif row['type'] == 'TRANSFER':\n",
    "        # In TRANSFER, both origin and destination balances are involved\n",
    "        if row['newbalanceOrig'] != row['oldbalanceOrg'] - row['amount']:\n",
    "            row['newbalanceOrig'] = row['oldbalanceOrg'] - row['amount']\n",
    "        if row['newbalanceDest'] != row['oldbalanceDest'] + row['amount']:\n",
    "            row['newbalanceDest'] = row['oldbalanceDest'] + row['amount']\n",
    "    \n",
    "    elif row['type'] == 'DEBIT':\n",
    "        # In DEBIT transaction, treat it similar to CASH-OUT\n",
    "        if row['newbalanceOrig'] != row['oldbalanceOrg'] - row['amount']:\n",
    "            row['newbalanceOrig'] = row['oldbalanceOrg'] - row['amount']\n",
    "\n",
    "    elif row['type'] == 'PAYMENT':\n",
    "        # In PAYMENT, the payer's new balance should be oldbalanceOrg - amount\n",
    "        if row['newbalanceOrig'] != row['oldbalanceOrg'] - row['amount']:\n",
    "            row['newbalanceOrig'] = row['oldbalanceOrg'] - row['amount']\n",
    "    \n",
    "    return row"
   ]
  },
  {
   "cell_type": "markdown",
   "id": "99799296",
   "metadata": {},
   "source": [
    "Apply the correction function to each row and check that inconsistencies are resolved or not;"
   ]
  },
  {
   "cell_type": "code",
   "execution_count": 8,
   "id": "4137f3ff",
   "metadata": {},
   "outputs": [],
   "source": [
    "df_corrected = df.apply(correct_balances, axis=1)"
   ]
  },
  {
   "cell_type": "code",
   "execution_count": 9,
   "id": "47aca90e",
   "metadata": {},
   "outputs": [],
   "source": [
    "df_corrected = df_corrected.drop(['balance_diff_orig', 'balance_diff_dest'], axis=1)"
   ]
  },
  {
   "cell_type": "code",
   "execution_count": 10,
   "id": "c508d1ed",
   "metadata": {},
   "outputs": [
    {
     "name": "stdout",
     "output_type": "stream",
     "text": [
      "Inconsistent origin balances after correction: 4243613\n",
      "Inconsistent destination balances after correction: 4504305\n"
     ]
    }
   ],
   "source": [
    "df_corrected['balance_diff_orig'] = df_corrected['oldbalanceOrg'] - df_corrected['newbalanceOrig'] - df_corrected['amount']\n",
    "df_corrected['balance_diff_dest'] = df_corrected['oldbalanceDest'] + df_corrected['amount'] - df_corrected['newbalanceDest']\n",
    "\n",
    "print(\"Inconsistent origin balances after correction:\", len(df_corrected[df_corrected['balance_diff_orig'] != 0]))\n",
    "print(\"Inconsistent destination balances after correction:\", len(df_corrected[df_corrected['balance_diff_dest'] != 0]))"
   ]
  },
  {
   "cell_type": "markdown",
   "id": "b779a770",
   "metadata": {},
   "source": [
    "Now, correct the 'isFraud' column based on above function 'correct_balances'"
   ]
  },
  {
   "cell_type": "markdown",
   "id": "814266c8",
   "metadata": {},
   "source": [
    "So create a function to transform \"isFraud\" column and apply correct results into it"
   ]
  },
  {
   "cell_type": "code",
   "execution_count": 11,
   "id": "65152c14",
   "metadata": {},
   "outputs": [],
   "source": [
    "def isFraud(row):\n",
    "    if row['type'] == 'CASH-OUT' or row['type'] == 'TRANSFER':\n",
    "        if row['newbalanceOrig'] == 0 and row['amount'] > 10000:  \n",
    "            row['isFraud'] = 1\n",
    "        else:\n",
    "            row['isFraud'] = 0\n",
    "    else:\n",
    "        row['isFraud'] = 0  \n",
    "    return row\n",
    "\n",
    "df_corrected = df_corrected.apply(isFraud, axis=1)"
   ]
  },
  {
   "cell_type": "code",
   "execution_count": 12,
   "id": "a468e47f",
   "metadata": {},
   "outputs": [
    {
     "data": {
      "text/html": [
       "<div>\n",
       "<style scoped>\n",
       "    .dataframe tbody tr th:only-of-type {\n",
       "        vertical-align: middle;\n",
       "    }\n",
       "\n",
       "    .dataframe tbody tr th {\n",
       "        vertical-align: top;\n",
       "    }\n",
       "\n",
       "    .dataframe thead th {\n",
       "        text-align: right;\n",
       "    }\n",
       "</style>\n",
       "<table border=\"1\" class=\"dataframe\">\n",
       "  <thead>\n",
       "    <tr style=\"text-align: right;\">\n",
       "      <th></th>\n",
       "      <th>step</th>\n",
       "      <th>type</th>\n",
       "      <th>amount</th>\n",
       "      <th>nameOrig</th>\n",
       "      <th>oldbalanceOrg</th>\n",
       "      <th>newbalanceOrig</th>\n",
       "      <th>nameDest</th>\n",
       "      <th>oldbalanceDest</th>\n",
       "      <th>newbalanceDest</th>\n",
       "      <th>isFraud</th>\n",
       "      <th>isFlaggedFraud</th>\n",
       "    </tr>\n",
       "  </thead>\n",
       "  <tbody>\n",
       "    <tr>\n",
       "      <th>0</th>\n",
       "      <td>1</td>\n",
       "      <td>PAYMENT</td>\n",
       "      <td>9839.64</td>\n",
       "      <td>C1231006815</td>\n",
       "      <td>170136.0</td>\n",
       "      <td>160296.36</td>\n",
       "      <td>M1979787155</td>\n",
       "      <td>0.0</td>\n",
       "      <td>0.0</td>\n",
       "      <td>0</td>\n",
       "      <td>0</td>\n",
       "    </tr>\n",
       "    <tr>\n",
       "      <th>1</th>\n",
       "      <td>1</td>\n",
       "      <td>PAYMENT</td>\n",
       "      <td>1864.28</td>\n",
       "      <td>C1666544295</td>\n",
       "      <td>21249.0</td>\n",
       "      <td>19384.72</td>\n",
       "      <td>M2044282225</td>\n",
       "      <td>0.0</td>\n",
       "      <td>0.0</td>\n",
       "      <td>0</td>\n",
       "      <td>0</td>\n",
       "    </tr>\n",
       "    <tr>\n",
       "      <th>2</th>\n",
       "      <td>1</td>\n",
       "      <td>TRANSFER</td>\n",
       "      <td>181.00</td>\n",
       "      <td>C1305486145</td>\n",
       "      <td>181.0</td>\n",
       "      <td>0.00</td>\n",
       "      <td>C553264065</td>\n",
       "      <td>0.0</td>\n",
       "      <td>181.0</td>\n",
       "      <td>0</td>\n",
       "      <td>0</td>\n",
       "    </tr>\n",
       "    <tr>\n",
       "      <th>3</th>\n",
       "      <td>1</td>\n",
       "      <td>CASH_OUT</td>\n",
       "      <td>181.00</td>\n",
       "      <td>C840083671</td>\n",
       "      <td>181.0</td>\n",
       "      <td>0.00</td>\n",
       "      <td>C38997010</td>\n",
       "      <td>21182.0</td>\n",
       "      <td>0.0</td>\n",
       "      <td>0</td>\n",
       "      <td>0</td>\n",
       "    </tr>\n",
       "    <tr>\n",
       "      <th>4</th>\n",
       "      <td>1</td>\n",
       "      <td>PAYMENT</td>\n",
       "      <td>11668.14</td>\n",
       "      <td>C2048537720</td>\n",
       "      <td>41554.0</td>\n",
       "      <td>29885.86</td>\n",
       "      <td>M1230701703</td>\n",
       "      <td>0.0</td>\n",
       "      <td>0.0</td>\n",
       "      <td>0</td>\n",
       "      <td>0</td>\n",
       "    </tr>\n",
       "  </tbody>\n",
       "</table>\n",
       "</div>"
      ],
      "text/plain": [
       "   step      type    amount     nameOrig  oldbalanceOrg  newbalanceOrig  \\\n",
       "0     1   PAYMENT   9839.64  C1231006815       170136.0       160296.36   \n",
       "1     1   PAYMENT   1864.28  C1666544295        21249.0        19384.72   \n",
       "2     1  TRANSFER    181.00  C1305486145          181.0            0.00   \n",
       "3     1  CASH_OUT    181.00   C840083671          181.0            0.00   \n",
       "4     1   PAYMENT  11668.14  C2048537720        41554.0        29885.86   \n",
       "\n",
       "      nameDest  oldbalanceDest  newbalanceDest  isFraud  isFlaggedFraud  \n",
       "0  M1979787155             0.0             0.0        0               0  \n",
       "1  M2044282225             0.0             0.0        0               0  \n",
       "2   C553264065             0.0           181.0        0               0  \n",
       "3    C38997010         21182.0             0.0        0               0  \n",
       "4  M1230701703             0.0             0.0        0               0  "
      ]
     },
     "execution_count": 12,
     "metadata": {},
     "output_type": "execute_result"
    }
   ],
   "source": [
    "df_corrected = df_corrected.drop(['balance_diff_orig', 'balance_diff_dest'], axis=1)\n",
    "df_corrected.to_csv('Corrected_Fraud_Data.csv', index=False)\n",
    "\n",
    "# Display the corrected dataset\n",
    "df_corrected.head()"
   ]
  },
  {
   "cell_type": "code",
   "execution_count": 13,
   "id": "05c89ac9",
   "metadata": {},
   "outputs": [
    {
     "data": {
      "text/html": [
       "<div>\n",
       "<style scoped>\n",
       "    .dataframe tbody tr th:only-of-type {\n",
       "        vertical-align: middle;\n",
       "    }\n",
       "\n",
       "    .dataframe tbody tr th {\n",
       "        vertical-align: top;\n",
       "    }\n",
       "\n",
       "    .dataframe thead th {\n",
       "        text-align: right;\n",
       "    }\n",
       "</style>\n",
       "<table border=\"1\" class=\"dataframe\">\n",
       "  <thead>\n",
       "    <tr style=\"text-align: right;\">\n",
       "      <th></th>\n",
       "      <th>step</th>\n",
       "      <th>type</th>\n",
       "      <th>amount</th>\n",
       "      <th>nameOrig</th>\n",
       "      <th>oldbalanceOrg</th>\n",
       "      <th>newbalanceOrig</th>\n",
       "      <th>nameDest</th>\n",
       "      <th>oldbalanceDest</th>\n",
       "      <th>newbalanceDest</th>\n",
       "      <th>isFraud</th>\n",
       "      <th>isFlaggedFraud</th>\n",
       "    </tr>\n",
       "  </thead>\n",
       "  <tbody>\n",
       "    <tr>\n",
       "      <th>2320970</th>\n",
       "      <td>188</td>\n",
       "      <td>PAYMENT</td>\n",
       "      <td>8170.22</td>\n",
       "      <td>C546508251</td>\n",
       "      <td>22404.15</td>\n",
       "      <td>14233.93</td>\n",
       "      <td>M1618947542</td>\n",
       "      <td>0.00</td>\n",
       "      <td>0.00</td>\n",
       "      <td>0</td>\n",
       "      <td>0</td>\n",
       "    </tr>\n",
       "    <tr>\n",
       "      <th>4195575</th>\n",
       "      <td>305</td>\n",
       "      <td>TRANSFER</td>\n",
       "      <td>4896784.77</td>\n",
       "      <td>C1916522101</td>\n",
       "      <td>0.00</td>\n",
       "      <td>-4896784.77</td>\n",
       "      <td>C1247684408</td>\n",
       "      <td>10485648.92</td>\n",
       "      <td>15382433.69</td>\n",
       "      <td>0</td>\n",
       "      <td>0</td>\n",
       "    </tr>\n",
       "    <tr>\n",
       "      <th>434601</th>\n",
       "      <td>18</td>\n",
       "      <td>CASH_IN</td>\n",
       "      <td>191659.37</td>\n",
       "      <td>C941203564</td>\n",
       "      <td>11186.00</td>\n",
       "      <td>202845.37</td>\n",
       "      <td>C79971626</td>\n",
       "      <td>0.00</td>\n",
       "      <td>0.00</td>\n",
       "      <td>0</td>\n",
       "      <td>0</td>\n",
       "    </tr>\n",
       "    <tr>\n",
       "      <th>4911924</th>\n",
       "      <td>349</td>\n",
       "      <td>TRANSFER</td>\n",
       "      <td>637465.93</td>\n",
       "      <td>C1233625765</td>\n",
       "      <td>100791.00</td>\n",
       "      <td>-536674.93</td>\n",
       "      <td>C1103130562</td>\n",
       "      <td>3492425.69</td>\n",
       "      <td>4129891.62</td>\n",
       "      <td>0</td>\n",
       "      <td>0</td>\n",
       "    </tr>\n",
       "    <tr>\n",
       "      <th>1122365</th>\n",
       "      <td>130</td>\n",
       "      <td>CASH_IN</td>\n",
       "      <td>112933.18</td>\n",
       "      <td>C2136423970</td>\n",
       "      <td>10808.00</td>\n",
       "      <td>123741.18</td>\n",
       "      <td>C2029730894</td>\n",
       "      <td>707121.37</td>\n",
       "      <td>594188.19</td>\n",
       "      <td>0</td>\n",
       "      <td>0</td>\n",
       "    </tr>\n",
       "    <tr>\n",
       "      <th>2901315</th>\n",
       "      <td>228</td>\n",
       "      <td>CASH_IN</td>\n",
       "      <td>19621.00</td>\n",
       "      <td>C1174027046</td>\n",
       "      <td>117.00</td>\n",
       "      <td>19738.00</td>\n",
       "      <td>C2117465900</td>\n",
       "      <td>0.00</td>\n",
       "      <td>0.00</td>\n",
       "      <td>0</td>\n",
       "      <td>0</td>\n",
       "    </tr>\n",
       "    <tr>\n",
       "      <th>1421347</th>\n",
       "      <td>139</td>\n",
       "      <td>PAYMENT</td>\n",
       "      <td>28419.84</td>\n",
       "      <td>C187368719</td>\n",
       "      <td>0.00</td>\n",
       "      <td>-28419.84</td>\n",
       "      <td>M1730844009</td>\n",
       "      <td>0.00</td>\n",
       "      <td>0.00</td>\n",
       "      <td>0</td>\n",
       "      <td>0</td>\n",
       "    </tr>\n",
       "    <tr>\n",
       "      <th>6099168</th>\n",
       "      <td>522</td>\n",
       "      <td>PAYMENT</td>\n",
       "      <td>9169.54</td>\n",
       "      <td>C1289031826</td>\n",
       "      <td>16624.00</td>\n",
       "      <td>7454.46</td>\n",
       "      <td>M795791022</td>\n",
       "      <td>0.00</td>\n",
       "      <td>0.00</td>\n",
       "      <td>0</td>\n",
       "      <td>0</td>\n",
       "    </tr>\n",
       "    <tr>\n",
       "      <th>4629920</th>\n",
       "      <td>329</td>\n",
       "      <td>CASH_OUT</td>\n",
       "      <td>62286.23</td>\n",
       "      <td>C1472663600</td>\n",
       "      <td>0.00</td>\n",
       "      <td>0.00</td>\n",
       "      <td>C2121083836</td>\n",
       "      <td>135571.57</td>\n",
       "      <td>197857.80</td>\n",
       "      <td>0</td>\n",
       "      <td>0</td>\n",
       "    </tr>\n",
       "    <tr>\n",
       "      <th>3204072</th>\n",
       "      <td>249</td>\n",
       "      <td>CASH_OUT</td>\n",
       "      <td>91861.78</td>\n",
       "      <td>C976157030</td>\n",
       "      <td>11035.00</td>\n",
       "      <td>0.00</td>\n",
       "      <td>C2020994335</td>\n",
       "      <td>268132.15</td>\n",
       "      <td>359993.92</td>\n",
       "      <td>0</td>\n",
       "      <td>0</td>\n",
       "    </tr>\n",
       "  </tbody>\n",
       "</table>\n",
       "</div>"
      ],
      "text/plain": [
       "         step      type      amount     nameOrig  oldbalanceOrg  \\\n",
       "2320970   188   PAYMENT     8170.22   C546508251       22404.15   \n",
       "4195575   305  TRANSFER  4896784.77  C1916522101           0.00   \n",
       "434601     18   CASH_IN   191659.37   C941203564       11186.00   \n",
       "4911924   349  TRANSFER   637465.93  C1233625765      100791.00   \n",
       "1122365   130   CASH_IN   112933.18  C2136423970       10808.00   \n",
       "2901315   228   CASH_IN    19621.00  C1174027046         117.00   \n",
       "1421347   139   PAYMENT    28419.84   C187368719           0.00   \n",
       "6099168   522   PAYMENT     9169.54  C1289031826       16624.00   \n",
       "4629920   329  CASH_OUT    62286.23  C1472663600           0.00   \n",
       "3204072   249  CASH_OUT    91861.78   C976157030       11035.00   \n",
       "\n",
       "         newbalanceOrig     nameDest  oldbalanceDest  newbalanceDest  isFraud  \\\n",
       "2320970        14233.93  M1618947542            0.00            0.00        0   \n",
       "4195575     -4896784.77  C1247684408     10485648.92     15382433.69        0   \n",
       "434601        202845.37    C79971626            0.00            0.00        0   \n",
       "4911924      -536674.93  C1103130562      3492425.69      4129891.62        0   \n",
       "1122365       123741.18  C2029730894       707121.37       594188.19        0   \n",
       "2901315        19738.00  C2117465900            0.00            0.00        0   \n",
       "1421347       -28419.84  M1730844009            0.00            0.00        0   \n",
       "6099168         7454.46   M795791022            0.00            0.00        0   \n",
       "4629920            0.00  C2121083836       135571.57       197857.80        0   \n",
       "3204072            0.00  C2020994335       268132.15       359993.92        0   \n",
       "\n",
       "         isFlaggedFraud  \n",
       "2320970               0  \n",
       "4195575               0  \n",
       "434601                0  \n",
       "4911924               0  \n",
       "1122365               0  \n",
       "2901315               0  \n",
       "1421347               0  \n",
       "6099168               0  \n",
       "4629920               0  \n",
       "3204072               0  "
      ]
     },
     "execution_count": 13,
     "metadata": {},
     "output_type": "execute_result"
    }
   ],
   "source": [
    "df_corrected.sample(10)"
   ]
  },
  {
   "cell_type": "code",
   "execution_count": 14,
   "id": "359212ec",
   "metadata": {},
   "outputs": [
    {
     "name": "stdout",
     "output_type": "stream",
     "text": [
      "step              0\n",
      "type              0\n",
      "amount            0\n",
      "nameOrig          0\n",
      "oldbalanceOrg     0\n",
      "newbalanceOrig    0\n",
      "nameDest          0\n",
      "oldbalanceDest    0\n",
      "newbalanceDest    0\n",
      "isFraud           0\n",
      "isFlaggedFraud    0\n",
      "dtype: int64\n"
     ]
    }
   ],
   "source": [
    "# Check for missing values\n",
    "\n",
    "print(df_corrected.isnull().sum())"
   ]
  },
  {
   "cell_type": "markdown",
   "id": "22de1b9d",
   "metadata": {},
   "source": [
    "Encoding the Categorical Variable 'type' field"
   ]
  },
  {
   "cell_type": "code",
   "execution_count": 15,
   "id": "aa99c05d",
   "metadata": {},
   "outputs": [],
   "source": [
    "from sklearn.preprocessing import LabelEncoder\n",
    "le = LabelEncoder()\n",
    "df_corrected['type'] = le.fit_transform(df_corrected['type'])"
   ]
  },
  {
   "cell_type": "code",
   "execution_count": 16,
   "id": "79036b0a",
   "metadata": {},
   "outputs": [
    {
     "data": {
      "text/plain": [
       "0    3\n",
       "1    3\n",
       "2    4\n",
       "3    1\n",
       "4    3\n",
       "Name: type, dtype: int64"
      ]
     },
     "execution_count": 16,
     "metadata": {},
     "output_type": "execute_result"
    }
   ],
   "source": [
    "df_corrected['type'].head()"
   ]
  },
  {
   "cell_type": "markdown",
   "id": "7c088562",
   "metadata": {},
   "source": [
    "# Outlier Detection and removal"
   ]
  },
  {
   "cell_type": "code",
   "execution_count": 17,
   "id": "e5ab5b3e",
   "metadata": {},
   "outputs": [
    {
     "data": {
      "image/png": "[encoded data removed]",
      "text/plain": [
       "<Figure size 800x600 with 1 Axes>"
      ]
     },
     "metadata": {},
     "output_type": "display_data"
    }
   ],
   "source": [
    "plt.figure(figsize=(8,6))\n",
    "sns.boxplot(x=df['amount'])\n",
    "plt.title('Outlier Detection for Amount')\n",
    "plt.show()"
   ]
  },
  {
   "cell_type": "markdown",
   "id": "b287af0e",
   "metadata": {},
   "source": [
    "This is 'IQR' method, used to remove outlier"
   ]
  },
  {
   "cell_type": "code",
   "execution_count": 18,
   "id": "6c14d17f",
   "metadata": {},
   "outputs": [],
   "source": [
    "Q1 = df_corrected['amount'].quantile(0.25)\n",
    "Q3 = df_corrected['amount'].quantile(0.75)\n",
    "IQR = Q3 - Q1\n",
    "\n",
    "lower_bound = Q1 - 1.5 * IQR\n",
    "upper_bound = Q3 + 1.5 * IQR\n",
    "\n",
    "df_corrected = df_corrected[(df_corrected['amount'] >= lower_bound) & (df_corrected['amount'] <= upper_bound)]"
   ]
  },
  {
   "cell_type": "code",
   "execution_count": 19,
   "id": "8117fe03",
   "metadata": {
    "scrolled": false
   },
   "outputs": [
    {
     "data": {
      "image/png": "[encoded data removed]",
      "text/plain": [
       "<Figure size 800x600 with 1 Axes>"
      ]
     },
     "metadata": {},
     "output_type": "display_data"
    }
   ],
   "source": [
    "plt.figure(figsize=(8,6))\n",
    "sns.boxplot(x=df_corrected['amount'])\n",
    "plt.title('Outlier Removed in Amount field')\n",
    "plt.show()"
   ]
  },
  {
   "cell_type": "markdown",
   "id": "54f691af",
   "metadata": {},
   "source": [
    "# Multicollinearity Check"
   ]
  },
  {
   "cell_type": "code",
   "execution_count": 20,
   "id": "4727d667",
   "metadata": {},
   "outputs": [
    {
     "data": {
      "image/png": "[encoded data removed]",
      "text/plain": [
       "<Figure size 1000x800 with 2 Axes>"
      ]
     },
     "metadata": {},
     "output_type": "display_data"
    }
   ],
   "source": [
    "# Plot the heatmap to check the correlation between the features\n",
    "\n",
    "corr_matrix = df_corrected.corr()\n",
    "plt.figure(figsize=(10, 8))\n",
    "sns.heatmap(corr_matrix, annot=True, cmap='coolwarm')\n",
    "plt.title('Correlation Matrix for Feature Multicollinearity')\n",
    "plt.show()"
   ]
  },
  {
   "cell_type": "markdown",
   "id": "e4d5a96d",
   "metadata": {},
   "source": [
    "Identify the input and target variables and select them"
   ]
  },
  {
   "cell_type": "code",
   "execution_count": 22,
   "id": "e2f8e823",
   "metadata": {},
   "outputs": [],
   "source": [
    "X = df_corrected[['amount', 'oldbalanceOrg', 'newbalanceOrig', 'oldbalanceDest', 'newbalanceDest', 'type']]\n",
    "y = df_corrected['isFraud']  # Target variable"
   ]
  },
  {
   "cell_type": "markdown",
   "id": "6f2d3ca5",
   "metadata": {},
   "source": [
    "# Train_test split"
   ]
  },
  {
   "cell_type": "code",
   "execution_count": 23,
   "id": "894eeee2",
   "metadata": {},
   "outputs": [],
   "source": [
    "from sklearn.model_selection import train_test_split\n",
    "\n",
    "X_train, X_test, y_train, y_test = train_test_split(X, y, test_size=0.25, random_state=42)"
   ]
  },
  {
   "cell_type": "code",
   "execution_count": 24,
   "id": "eea76644",
   "metadata": {},
   "outputs": [
    {
     "name": "stdout",
     "output_type": "stream",
     "text": [
      "(4518406, 6)\n",
      "(1506136, 6)\n"
     ]
    }
   ],
   "source": [
    "print(X_train.shape)\n",
    "print(X_test.shape)"
   ]
  },
  {
   "cell_type": "markdown",
   "id": "70e17ac5",
   "metadata": {},
   "source": [
    "# Training the model using RandomForestClassifier"
   ]
  },
  {
   "cell_type": "code",
   "execution_count": 25,
   "id": "06ad276e",
   "metadata": {},
   "outputs": [
    {
     "data": {
      "text/html": [
       "<style>#sk-container-id-1 {color: black;background-color: white;}#sk-container-id-1 pre{padding: 0;}#sk-container-id-1 div.sk-toggleable {background-color: white;}#sk-container-id-1 label.sk-toggleable__label {cursor: pointer;display: block;width: 100%;margin-bottom: 0;padding: 0.3em;box-sizing: border-box;text-align: center;}#sk-container-id-1 label.sk-toggleable__label-arrow:before {content: \"▸\";float: left;margin-right: 0.25em;color: #696969;}#sk-container-id-1 label.sk-toggleable__label-arrow:hover:before {color: black;}#sk-container-id-1 div.sk-estimator:hover label.sk-toggleable__label-arrow:before {color: black;}#sk-container-id-1 div.sk-toggleable__content {max-height: 0;max-width: 0;overflow: hidden;text-align: left;background-color: #f0f8ff;}#sk-container-id-1 div.sk-toggleable__content pre {margin: 0.2em;color: black;border-radius: 0.25em;background-color: #f0f8ff;}#sk-container-id-1 input.sk-toggleable__control:checked~div.sk-toggleable__content {max-height: 200px;max-width: 100%;overflow: auto;}#sk-container-id-1 input.sk-toggleable__control:checked~label.sk-toggleable__label-arrow:before {content: \"▾\";}#sk-container-id-1 div.sk-estimator input.sk-toggleable__control:checked~label.sk-toggleable__label {background-color: #d4ebff;}#sk-container-id-1 div.sk-label input.sk-toggleable__control:checked~label.sk-toggleable__label {background-color: #d4ebff;}#sk-container-id-1 input.sk-hidden--visually {border: 0;clip: rect(1px 1px 1px 1px);clip: rect(1px, 1px, 1px, 1px);height: 1px;margin: -1px;overflow: hidden;padding: 0;position: absolute;width: 1px;}#sk-container-id-1 div.sk-estimator {font-family: monospace;background-color: #f0f8ff;border: 1px dotted black;border-radius: 0.25em;box-sizing: border-box;margin-bottom: 0.5em;}#sk-container-id-1 div.sk-estimator:hover {background-color: #d4ebff;}#sk-container-id-1 div.sk-parallel-item::after {content: \"\";width: 100%;border-bottom: 1px solid gray;flex-grow: 1;}#sk-container-id-1 div.sk-label:hover label.sk-toggleable__label {background-color: #d4ebff;}#sk-container-id-1 div.sk-serial::before {content: \"\";position: absolute;border-left: 1px solid gray;box-sizing: border-box;top: 0;bottom: 0;left: 50%;z-index: 0;}#sk-container-id-1 div.sk-serial {display: flex;flex-direction: column;align-items: center;background-color: white;padding-right: 0.2em;padding-left: 0.2em;position: relative;}#sk-container-id-1 div.sk-item {position: relative;z-index: 1;}#sk-container-id-1 div.sk-parallel {display: flex;align-items: stretch;justify-content: center;background-color: white;position: relative;}#sk-container-id-1 div.sk-item::before, #sk-container-id-1 div.sk-parallel-item::before {content: \"\";position: absolute;border-left: 1px solid gray;box-sizing: border-box;top: 0;bottom: 0;left: 50%;z-index: -1;}#sk-container-id-1 div.sk-parallel-item {display: flex;flex-direction: column;z-index: 1;position: relative;background-color: white;}#sk-container-id-1 div.sk-parallel-item:first-child::after {align-self: flex-end;width: 50%;}#sk-container-id-1 div.sk-parallel-item:last-child::after {align-self: flex-start;width: 50%;}#sk-container-id-1 div.sk-parallel-item:only-child::after {width: 0;}#sk-container-id-1 div.sk-dashed-wrapped {border: 1px dashed gray;margin: 0 0.4em 0.5em 0.4em;box-sizing: border-box;padding-bottom: 0.4em;background-color: white;}#sk-container-id-1 div.sk-label label {font-family: monospace;font-weight: bold;display: inline-block;line-height: 1.2em;}#sk-container-id-1 div.sk-label-container {text-align: center;}#sk-container-id-1 div.sk-container {/* jupyter's `normalize.less` sets `[hidden] { display: none; }` but bootstrap.min.css set `[hidden] { display: none !important; }` so we also need the `!important` here to be able to override the default hidden behavior on the sphinx rendered scikit-learn.org. See: https://github.com/scikit-learn/scikit-learn/issues/21755 */display: inline-block !important;position: relative;}#sk-container-id-1 div.sk-text-repr-fallback {display: none;}</style><div id=\"sk-container-id-1\" class=\"sk-top-container\"><div class=\"sk-text-repr-fallback\"><pre>RandomForestClassifier(random_state=42)</pre><b>In a Jupyter environment, please rerun this cell to show the HTML representation or trust the notebook. <br />On GitHub, the HTML representation is unable to render, please try loading this page with nbviewer.org.</b></div><div class=\"sk-container\" hidden><div class=\"sk-item\"><div class=\"sk-estimator sk-toggleable\"><input class=\"sk-toggleable__control sk-hidden--visually\" id=\"sk-estimator-id-1\" type=\"checkbox\" checked><label for=\"sk-estimator-id-1\" class=\"sk-toggleable__label sk-toggleable__label-arrow\">RandomForestClassifier</label><div class=\"sk-toggleable__content\"><pre>RandomForestClassifier(random_state=42)</pre></div></div></div></div></div>"
      ],
      "text/plain": [
       "RandomForestClassifier(random_state=42)"
      ]
     },
     "execution_count": 25,
     "metadata": {},
     "output_type": "execute_result"
    }
   ],
   "source": [
    "from sklearn.ensemble import RandomForestClassifier\n",
    "\n",
    "rfc = RandomForestClassifier(n_estimators=100, random_state=42)\n",
    "\n",
    "rfc.fit(X_train, y_train)"
   ]
  },
  {
   "cell_type": "markdown",
   "id": "f2309bcc",
   "metadata": {},
   "source": [
    "# Predict the results and evaluate the metrices"
   ]
  },
  {
   "cell_type": "code",
   "execution_count": 26,
   "id": "c9c77284",
   "metadata": {},
   "outputs": [],
   "source": [
    "from sklearn.metrics import classification_report, confusion_matrix, roc_auc_score, roc_curve\n",
    "\n",
    "y_pred = rfc.predict(X_test)"
   ]
  },
  {
   "cell_type": "markdown",
   "id": "4de7e59d",
   "metadata": {},
   "source": [
    "Confusion matrix returns that how many results are correctly predicted "
   ]
  },
  {
   "cell_type": "code",
   "execution_count": 27,
   "id": "044a94cd",
   "metadata": {},
   "outputs": [
    {
     "data": {
      "image/png": "[encoded data removed]",
      "text/plain": [
       "<Figure size 640x480 with 2 Axes>"
      ]
     },
     "metadata": {},
     "output_type": "display_data"
    }
   ],
   "source": [
    "cm = confusion_matrix(y_test, y_pred)\n",
    "sns.heatmap(cm, annot=True, fmt='g', cmap='Blues')\n",
    "plt.title('Confusion Matrix')\n",
    "plt.show()"
   ]
  },
  {
   "cell_type": "markdown",
   "id": "428a9e3a",
   "metadata": {},
   "source": [
    "It gives us the overall report"
   ]
  },
  {
   "cell_type": "code",
   "execution_count": 28,
   "id": "c87d2b1d",
   "metadata": {},
   "outputs": [
    {
     "name": "stdout",
     "output_type": "stream",
     "text": [
      "              precision    recall  f1-score   support\n",
      "\n",
      "           0       1.00      1.00      1.00   1505643\n",
      "           1       0.99      1.00      0.99       493\n",
      "\n",
      "    accuracy                           1.00   1506136\n",
      "   macro avg       1.00      1.00      1.00   1506136\n",
      "weighted avg       1.00      1.00      1.00   1506136\n",
      "\n"
     ]
    }
   ],
   "source": [
    "print(classification_report(y_test, y_pred))"
   ]
  },
  {
   "cell_type": "code",
   "execution_count": 29,
   "id": "9452e561",
   "metadata": {},
   "outputs": [
    {
     "name": "stdout",
     "output_type": "stream",
     "text": [
      "ROC-AUC Score: 0.9999999919168188\n"
     ]
    }
   ],
   "source": [
    "y_pred_proba = rfc.predict_proba(X_test)[:, 1]\n",
    "roc_auc = roc_auc_score(y_test, y_pred_proba)\n",
    "print('ROC-AUC Score:', roc_auc)"
   ]
  },
  {
   "cell_type": "code",
   "execution_count": 30,
   "id": "aae024cb",
   "metadata": {},
   "outputs": [
    {
     "data": {
      "image/png": "[encoded data removed]",
      "text/plain": [
       "<Figure size 640x480 with 1 Axes>"
      ]
     },
     "metadata": {},
     "output_type": "display_data"
    }
   ],
   "source": [
    "fpr, tpr, thresholds = roc_curve(y_test, y_pred_proba)\n",
    "plt.plot(fpr, tpr, label='Random Forest (AUC = {:.2f})'.format(roc_auc))\n",
    "plt.plot([0, 1], [0, 1], 'k--') \n",
    "plt.xlabel('False Positive')\n",
    "plt.ylabel('True Positive')\n",
    "plt.title('ROC Curve')\n",
    "plt.legend()\n",
    "plt.show()"
   ]
  },
  {
   "cell_type": "markdown",
   "id": "99e68b68",
   "metadata": {},
   "source": [
    "# key factors that predict fraudulent customer"
   ]
  },
  {
   "cell_type": "code",
   "execution_count": 31,
   "id": "72bdf350",
   "metadata": {},
   "outputs": [
    {
     "name": "stdout",
     "output_type": "stream",
     "text": [
      "                importance\n",
      "newbalanceOrig    0.603592\n",
      "type              0.140360\n",
      "oldbalanceOrg     0.110960\n",
      "newbalanceDest    0.059220\n",
      "amount            0.043580\n",
      "oldbalanceDest    0.042288\n"
     ]
    }
   ],
   "source": [
    "feature_importances = pd.DataFrame(rfc.feature_importances_,\n",
    "                                   index=X.columns,\n",
    "                                   columns=['importance']).sort_values('importance', ascending=False)\n",
    "print(feature_importances)"
   ]
  },
  {
   "cell_type": "code",
   "execution_count": 35,
   "id": "a7476548",
   "metadata": {
    "scrolled": true
   },
   "outputs": [
    {
     "data": {
      "text/plain": [
       "0    6022514\n",
       "1       2028\n",
       "Name: isFraud, dtype: int64"
      ]
     },
     "execution_count": 35,
     "metadata": {},
     "output_type": "execute_result"
    }
   ],
   "source": [
    "df_corrected['isFraud'].value_counts()"
   ]
  },
  {
   "cell_type": "markdown",
   "id": "cbbe1073",
   "metadata": {},
   "source": [
    "# Saving the Model into a Pickle File"
   ]
  },
  {
   "cell_type": "code",
   "execution_count": 38,
   "id": "6f8b40a5",
   "metadata": {},
   "outputs": [],
   "source": [
    "import pickle\n",
    "with open('fraud_detection_model.pkl', 'wb') as file:\n",
    "    pickle.dump(rfc, file)"
   ]
  },
  {
   "cell_type": "markdown",
   "id": "6b5a8580",
   "metadata": {},
   "source": [
    "# Loading the Model from the Pickle File"
   ]
  },
  {
   "cell_type": "code",
   "execution_count": 39,
   "id": "d6b20e42",
   "metadata": {},
   "outputs": [],
   "source": [
    "with open('fraud_detection_model.pkl', 'rb') as file:\n",
    "    loaded_model = pickle.load(file)\n",
    "    \n",
    "y_pred_loaded = loaded_model.predict(X_test)"
   ]
  },
  {
   "cell_type": "markdown",
   "id": "8b18bcc9",
   "metadata": {},
   "source": [
    "# Do these factors make sense? If yes, How? If not, How not?"
   ]
  },
  {
   "cell_type": "markdown",
   "id": "4ced87c5",
   "metadata": {},
   "source": [
    "Yes, these factors make sense because,\n",
    "1. Transaction Amount: Larger amounts are often linked to fraud, especially in cash-outs and transfers.\n",
    "2. Balance Changes: Sharp decreases in balances or sudden inflows can indicate fraudulent activity.\n",
    "3. Transaction Type: High-risk types like TRANSFER and CASH-OUT are commonly used in fraud."
   ]
  },
  {
   "cell_type": "markdown",
   "id": "48e7a966",
   "metadata": {},
   "source": [
    "# What kind of prevention should be adopted while company update its infrastructure?"
   ]
  },
  {
   "cell_type": "markdown",
   "id": "7e4c97de",
   "metadata": {},
   "source": [
    "1. Real-time monitoring for high-risk transactions.\n",
    "2. Anomaly detection to flag unusual behaviors.\n",
    "3. Threshold alerts for large amounts or balance changes.\n",
    "4. Multi-factor authentication for risky transactions.\n",
    "5. AI-driven fraud detection systems for proactive defense."
   ]
  },
  {
   "cell_type": "markdown",
   "id": "bedc6005",
   "metadata": {},
   "source": [
    "# Assuming these actions have been implemented, how would you determine if they work?"
   ]
  },
  {
   "cell_type": "markdown",
   "id": "998efd09",
   "metadata": {},
   "source": [
    "1. Measure reduction in fraud cases and financial losses.\n",
    "2. Track false positives to avoid customer dissatisfaction.\n",
    "3. Monitor fraud detection accuracy (recall and precision).\n",
    "4. Gather customer feedback on flagged transactions.\n",
    "5. Periodically retrain models to adapt to new fraud patterns."
   ]
  },
  {
   "cell_type": "code",
   "execution_count": null,
   "id": "9cd5a8f5",
   "metadata": {},
   "outputs": [],
   "source": []
  }
 ],
 "metadata": {
  "kernelspec": {
   "display_name": "Python 3 (ipykernel)",
   "language": "python",
   "name": "python3"
  },
  "language_info": {
   "codemirror_mode": {
    "name": "ipython",
    "version": 3
   },
   "file_extension": ".py",
   "mimetype": "text/x-python",
   "name": "python",
   "nbconvert_exporter": "python",
   "pygments_lexer": "ipython3",
   "version": "3.10.9"
  }
 },
 "nbformat": 4,
 "nbformat_minor": 5
}
